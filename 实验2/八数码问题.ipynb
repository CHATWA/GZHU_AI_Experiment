{
 "cells": [
  {
   "cell_type": "markdown",
   "source": [
    "# 八数码问题"
   ],
   "metadata": {
    "collapsed": false
   },
   "id": "3f4814c7b1e19a8b"
  },
  {
   "cell_type": "markdown",
   "source": [
    "1.在图1，3*3的方格棋盘上，摆放着1到8这八个数码，有1个方格是空。\n",
    "\n",
    "2.如图1所示，要求对空格执行空格左移、空格右移、空格上移和空格下移这四个操作使得棋盘从初始状态（图1左）到目标状态（图1右）。\n",
    "3.可自行设计初始状态。目标状态为数字从小到大按顺时针排列。\n",
    "4.分别用广度优先搜索策略、深度优先搜索策略和启发式搜索算法（A*算法）求解八数码问题；分析估价函数对启发式搜索算法的影响；探究各个搜索算法的特点。"
   ],
   "metadata": {
    "collapsed": false
   },
   "id": "bb9fc61d0e58c837"
  },
  {
   "cell_type": "code",
   "execution_count": 1,
   "outputs": [],
   "source": [
    "import numpy as np\n",
    "import matplotlib"
   ],
   "metadata": {
    "collapsed": false,
    "ExecuteTime": {
     "start_time": "2023-11-08T06:49:42.757537100Z"
    }
   },
   "id": "4e6e849ae1c6e3b2"
  },
  {
   "cell_type": "code",
   "execution_count": null,
   "outputs": [],
   "source": [
    "s ascii()"
   ],
   "metadata": {
    "collapsed": false
   },
   "id": "b3a257b694d3f3cb"
  },
  {
   "cell_type": "code",
   "execution_count": null,
   "outputs": [],
   "source": [],
   "metadata": {
    "collapsed": false
   },
   "id": "b12822555646e1e9"
  }
 ],
 "metadata": {
  "kernelspec": {
   "display_name": "Python 3",
   "language": "python",
   "name": "python3"
  },
  "language_info": {
   "codemirror_mode": {
    "name": "ipython",
    "version": 2
   },
   "file_extension": ".py",
   "mimetype": "text/x-python",
   "name": "python",
   "nbconvert_exporter": "python",
   "pygments_lexer": "ipython2",
   "version": "2.7.6"
  }
 },
 "nbformat": 4,
 "nbformat_minor": 5
}
